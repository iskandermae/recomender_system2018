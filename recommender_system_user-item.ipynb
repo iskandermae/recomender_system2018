{
 "cells": [
  {
   "cell_type": "code",
   "execution_count": 1,
   "metadata": {},
   "outputs": [
    {
     "name": "stderr",
     "output_type": "stream",
     "text": [
      "Using TensorFlow backend.\n"
     ]
    }
   ],
   "source": [
    "import pandas as pd\n",
    "import numpy as np\n",
    "import matplotlib.pyplot as plt\n",
    "import warnings\n",
    "warnings.filterwarnings('ignore')\n",
    "import keras\n",
    "from IPython.display import SVG\n",
    "from keras.optimizers import Adam\n",
    "from keras.utils.vis_utils import model_to_dot\n",
    "from sklearn.model_selection import train_test_split\n",
    "import lib\n",
    "import pickle"
   ]
  },
  {
   "cell_type": "code",
   "execution_count": 38,
   "metadata": {},
   "outputs": [
    {
     "name": "stdout",
     "output_type": "stream",
     "text": [
      "(17592080, 4)\n",
      "(16369297, 4)\n"
     ]
    }
   ],
   "source": [
    "def load_data(file_pref = '') -> (pd.DataFrame, pd.DataFrame):\n",
    "    users = pd.read_csv(file_pref+'Users.csv', sep=';', dtype={'User_id': str, 'age': str})\n",
    "    users.dropna(axis=0,inplace=True)\n",
    "    users.age = pd.to_numeric(users.age, errors='coerce').fillna(30).astype(np.int64)\n",
    "    users.loc[users.age>80, \"age\"] = 25\n",
    "    users['User_id'] = users['User_id'].astype(np.int64)\n",
    "    users.set_index('User_id', inplace=True)\n",
    "\n",
    "    finder_decisions = pd.read_csv(file_pref+'Finder_decisions_.csv', sep=';')#, nrows=10000)\n",
    "    finder_decisions.drop(finder_decisions[(~finder_decisions['Receiver_id'].isin(users.index))].index.values, inplace=True)\n",
    "    finder_decisions.drop(finder_decisions[(~finder_decisions['Sender_id'].isin(users.index))].index.values, inplace=True)\n",
    "    return users, finder_decisions\n",
    "\n",
    "users, finder_decisions = load_data('')\n",
    "\n"
   ]
  },
  {
   "cell_type": "code",
   "execution_count": 179,
   "metadata": {},
   "outputs": [
    {
     "name": "stdout",
     "output_type": "stream",
     "text": [
      "(16369297, 4)\n"
     ]
    },
    {
     "data": {
      "text/html": [
       "<div>\n",
       "<style>\n",
       "    .dataframe thead tr:only-child th {\n",
       "        text-align: right;\n",
       "    }\n",
       "\n",
       "    .dataframe thead th {\n",
       "        text-align: left;\n",
       "    }\n",
       "\n",
       "    .dataframe tbody tr th {\n",
       "        vertical-align: top;\n",
       "    }\n",
       "</style>\n",
       "<table border=\"1\" class=\"dataframe\">\n",
       "  <thead>\n",
       "    <tr style=\"text-align: right;\">\n",
       "      <th></th>\n",
       "      <th>Decision</th>\n",
       "      <th>Number of Records</th>\n",
       "      <th>Receiver_id</th>\n",
       "      <th>Sender_id</th>\n",
       "    </tr>\n",
       "  </thead>\n",
       "  <tbody>\n",
       "    <tr>\n",
       "      <th>0</th>\n",
       "      <td>like</td>\n",
       "      <td>1</td>\n",
       "      <td>3020120157</td>\n",
       "      <td>3019224295</td>\n",
       "    </tr>\n",
       "    <tr>\n",
       "      <th>1</th>\n",
       "      <td>like</td>\n",
       "      <td>1</td>\n",
       "      <td>3020143161</td>\n",
       "      <td>3021346119</td>\n",
       "    </tr>\n",
       "    <tr>\n",
       "      <th>2</th>\n",
       "      <td>like</td>\n",
       "      <td>1</td>\n",
       "      <td>3004593177</td>\n",
       "      <td>3021346119</td>\n",
       "    </tr>\n",
       "    <tr>\n",
       "      <th>3</th>\n",
       "      <td>like</td>\n",
       "      <td>1</td>\n",
       "      <td>3020177581</td>\n",
       "      <td>3021346119</td>\n",
       "    </tr>\n",
       "    <tr>\n",
       "      <th>4</th>\n",
       "      <td>like</td>\n",
       "      <td>1</td>\n",
       "      <td>3020193527</td>\n",
       "      <td>3019224295</td>\n",
       "    </tr>\n",
       "  </tbody>\n",
       "</table>\n",
       "</div>"
      ],
      "text/plain": [
       "  Decision  Number of Records  Receiver_id   Sender_id\n",
       "0     like                  1   3020120157  3019224295\n",
       "1     like                  1   3020143161  3021346119\n",
       "2     like                  1   3004593177  3021346119\n",
       "3     like                  1   3020177581  3021346119\n",
       "4     like                  1   3020193527  3019224295"
      ]
     },
     "execution_count": 179,
     "metadata": {},
     "output_type": "execute_result"
    }
   ],
   "source": [
    "print(finder_decisions.shape)\n",
    "finder_decisions.head()"
   ]
  },
  {
   "cell_type": "code",
   "execution_count": 56,
   "metadata": {},
   "outputs": [
    {
     "name": "stdout",
     "output_type": "stream",
     "text": [
      "(82391, 4)\n"
     ]
    },
    {
     "data": {
      "text/html": [
       "<div>\n",
       "<style>\n",
       "    .dataframe thead tr:only-child th {\n",
       "        text-align: right;\n",
       "    }\n",
       "\n",
       "    .dataframe thead th {\n",
       "        text-align: left;\n",
       "    }\n",
       "\n",
       "    .dataframe tbody tr th {\n",
       "        vertical-align: top;\n",
       "    }\n",
       "</style>\n",
       "<table border=\"1\" class=\"dataframe\">\n",
       "  <thead>\n",
       "    <tr style=\"text-align: right;\">\n",
       "      <th></th>\n",
       "      <th>Photo</th>\n",
       "      <th>age</th>\n",
       "      <th>gender</th>\n",
       "      <th>index</th>\n",
       "    </tr>\n",
       "    <tr>\n",
       "      <th>User_id</th>\n",
       "      <th></th>\n",
       "      <th></th>\n",
       "      <th></th>\n",
       "      <th></th>\n",
       "    </tr>\n",
       "  </thead>\n",
       "  <tbody>\n",
       "    <tr>\n",
       "      <th>3025414901</th>\n",
       "      <td>https://r.phts.io/hilybu9d0lpf7mngw8gg8s8gwg8w...</td>\n",
       "      <td>30</td>\n",
       "      <td>1</td>\n",
       "      <td>0</td>\n",
       "    </tr>\n",
       "    <tr>\n",
       "      <th>3024640165</th>\n",
       "      <td>https://r.phts.io/hilybu44zkz4sc01ogsskc0480w8...</td>\n",
       "      <td>62</td>\n",
       "      <td>1</td>\n",
       "      <td>1</td>\n",
       "    </tr>\n",
       "    <tr>\n",
       "      <th>3022146285</th>\n",
       "      <td>https://r.phts.io/hilybu7gufdsc9wf8k444w84okkw...</td>\n",
       "      <td>23</td>\n",
       "      <td>2</td>\n",
       "      <td>2</td>\n",
       "    </tr>\n",
       "    <tr>\n",
       "      <th>3020392717</th>\n",
       "      <td>https://r.phts.io/hilybu760vygze57cwow0cswggkg...</td>\n",
       "      <td>20</td>\n",
       "      <td>2</td>\n",
       "      <td>3</td>\n",
       "    </tr>\n",
       "    <tr>\n",
       "      <th>3023036685</th>\n",
       "      <td>https://r.phts.io/hilybu5shyp459tl0ksgcws48sw0...</td>\n",
       "      <td>28</td>\n",
       "      <td>1</td>\n",
       "      <td>4</td>\n",
       "    </tr>\n",
       "  </tbody>\n",
       "</table>\n",
       "</div>"
      ],
      "text/plain": [
       "                                                        Photo  age  gender  \\\n",
       "User_id                                                                      \n",
       "3025414901  https://r.phts.io/hilybu9d0lpf7mngw8gg8s8gwg8w...   30       1   \n",
       "3024640165  https://r.phts.io/hilybu44zkz4sc01ogsskc0480w8...   62       1   \n",
       "3022146285  https://r.phts.io/hilybu7gufdsc9wf8k444w84okkw...   23       2   \n",
       "3020392717  https://r.phts.io/hilybu760vygze57cwow0cswggkg...   20       2   \n",
       "3023036685  https://r.phts.io/hilybu5shyp459tl0ksgcws48sw0...   28       1   \n",
       "\n",
       "            index  \n",
       "User_id            \n",
       "3025414901      0  \n",
       "3024640165      1  \n",
       "3022146285      2  \n",
       "3020392717      3  \n",
       "3023036685      4  "
      ]
     },
     "execution_count": 56,
     "metadata": {},
     "output_type": "execute_result"
    }
   ],
   "source": [
    "print(users.shape)\n",
    "users.head()"
   ]
  },
  {
   "cell_type": "code",
   "execution_count": 45,
   "metadata": {
    "collapsed": true
   },
   "outputs": [],
   "source": [
    "data=users\n",
    "sender_value_counts = finder_decisions['Sender_id'].value_counts()\n",
    "decisions =     finder_decisions.drop(\n",
    "        finder_decisions.index[finder_decisions['Sender_id'].isin(sender_value_counts.index[sender_value_counts < 5])])\n",
    "del sender_value_counts"
   ]
  },
  {
   "cell_type": "code",
   "execution_count": 60,
   "metadata": {},
   "outputs": [
    {
     "data": {
      "text/html": [
       "<div>\n",
       "<style>\n",
       "    .dataframe thead tr:only-child th {\n",
       "        text-align: right;\n",
       "    }\n",
       "\n",
       "    .dataframe thead th {\n",
       "        text-align: left;\n",
       "    }\n",
       "\n",
       "    .dataframe tbody tr th {\n",
       "        vertical-align: top;\n",
       "    }\n",
       "</style>\n",
       "<table border=\"1\" class=\"dataframe\">\n",
       "  <thead>\n",
       "    <tr style=\"text-align: right;\">\n",
       "      <th></th>\n",
       "      <th>User_id</th>\n",
       "    </tr>\n",
       "    <tr>\n",
       "      <th>key</th>\n",
       "      <th></th>\n",
       "    </tr>\n",
       "  </thead>\n",
       "  <tbody>\n",
       "    <tr>\n",
       "      <th>0</th>\n",
       "      <td>3025414901</td>\n",
       "    </tr>\n",
       "    <tr>\n",
       "      <th>1</th>\n",
       "      <td>3024640165</td>\n",
       "    </tr>\n",
       "    <tr>\n",
       "      <th>2</th>\n",
       "      <td>3022146285</td>\n",
       "    </tr>\n",
       "    <tr>\n",
       "      <th>3</th>\n",
       "      <td>3020392717</td>\n",
       "    </tr>\n",
       "    <tr>\n",
       "      <th>4</th>\n",
       "      <td>3023036685</td>\n",
       "    </tr>\n",
       "  </tbody>\n",
       "</table>\n",
       "</div>"
      ],
      "text/plain": [
       "        User_id\n",
       "key            \n",
       "0    3025414901\n",
       "1    3024640165\n",
       "2    3022146285\n",
       "3    3020392717\n",
       "4    3023036685"
      ]
     },
     "execution_count": 60,
     "metadata": {},
     "output_type": "execute_result"
    }
   ],
   "source": [
    "users['key'] = np.arange(0,users.shape[0])\n",
    "user_by_index=pd.DataFrame({\"User_id\":users.index.values}, users[\"key\"])\n",
    "index_by_user=pd.DataFrame({\"key\":user_by_index.index}, user_by_index.User_id)\n",
    "\n",
    "users_data = users[['age', 'gender', 'key']]\n",
    "decisions = decisions.merge(users_data, how='left', left_on='Sender_id', right_index=True)\n",
    "decisions.rename(columns={'age': 'Sender_age', 'gender': 'Sender_gender', 'key': 'Sender_key'}, inplace=True)\n",
    "decisions = decisions.merge(users_data, how='left', left_on='Receiver_id', right_index=True)\n",
    "decisions.rename(columns={'age': 'Receiver_age', 'gender': 'Receiver_gender', 'key': 'Receiver_key'},inplace=True)\n",
    "decisions['Decision'] = (decisions['Decision'] == 'like')+1"
   ]
  },
  {
   "cell_type": "code",
   "execution_count": 119,
   "metadata": {},
   "outputs": [
    {
     "data": {
      "text/html": [
       "<div>\n",
       "<style>\n",
       "    .dataframe thead tr:only-child th {\n",
       "        text-align: right;\n",
       "    }\n",
       "\n",
       "    .dataframe thead th {\n",
       "        text-align: left;\n",
       "    }\n",
       "\n",
       "    .dataframe tbody tr th {\n",
       "        vertical-align: top;\n",
       "    }\n",
       "</style>\n",
       "<table border=\"1\" class=\"dataframe\">\n",
       "  <thead>\n",
       "    <tr style=\"text-align: right;\">\n",
       "      <th></th>\n",
       "      <th>Photo</th>\n",
       "      <th>age</th>\n",
       "      <th>gender</th>\n",
       "      <th>index</th>\n",
       "      <th>key</th>\n",
       "    </tr>\n",
       "    <tr>\n",
       "      <th>User_id</th>\n",
       "      <th></th>\n",
       "      <th></th>\n",
       "      <th></th>\n",
       "      <th></th>\n",
       "      <th></th>\n",
       "    </tr>\n",
       "  </thead>\n",
       "  <tbody>\n",
       "    <tr>\n",
       "      <th>3025414901</th>\n",
       "      <td>https://r.phts.io/hilybu9d0lpf7mngw8gg8s8gwg8w...</td>\n",
       "      <td>30</td>\n",
       "      <td>1</td>\n",
       "      <td>0</td>\n",
       "      <td>0</td>\n",
       "    </tr>\n",
       "    <tr>\n",
       "      <th>3024640165</th>\n",
       "      <td>https://r.phts.io/hilybu44zkz4sc01ogsskc0480w8...</td>\n",
       "      <td>62</td>\n",
       "      <td>1</td>\n",
       "      <td>1</td>\n",
       "      <td>1</td>\n",
       "    </tr>\n",
       "    <tr>\n",
       "      <th>3022146285</th>\n",
       "      <td>https://r.phts.io/hilybu7gufdsc9wf8k444w84okkw...</td>\n",
       "      <td>23</td>\n",
       "      <td>2</td>\n",
       "      <td>2</td>\n",
       "      <td>2</td>\n",
       "    </tr>\n",
       "    <tr>\n",
       "      <th>3020392717</th>\n",
       "      <td>https://r.phts.io/hilybu760vygze57cwow0cswggkg...</td>\n",
       "      <td>20</td>\n",
       "      <td>2</td>\n",
       "      <td>3</td>\n",
       "      <td>3</td>\n",
       "    </tr>\n",
       "    <tr>\n",
       "      <th>3023036685</th>\n",
       "      <td>https://r.phts.io/hilybu5shyp459tl0ksgcws48sw0...</td>\n",
       "      <td>28</td>\n",
       "      <td>1</td>\n",
       "      <td>4</td>\n",
       "      <td>4</td>\n",
       "    </tr>\n",
       "  </tbody>\n",
       "</table>\n",
       "</div>"
      ],
      "text/plain": [
       "                                                        Photo  age  gender  \\\n",
       "User_id                                                                      \n",
       "3025414901  https://r.phts.io/hilybu9d0lpf7mngw8gg8s8gwg8w...   30       1   \n",
       "3024640165  https://r.phts.io/hilybu44zkz4sc01ogsskc0480w8...   62       1   \n",
       "3022146285  https://r.phts.io/hilybu7gufdsc9wf8k444w84okkw...   23       2   \n",
       "3020392717  https://r.phts.io/hilybu760vygze57cwow0cswggkg...   20       2   \n",
       "3023036685  https://r.phts.io/hilybu5shyp459tl0ksgcws48sw0...   28       1   \n",
       "\n",
       "            index  key  \n",
       "User_id                 \n",
       "3025414901      0    0  \n",
       "3024640165      1    1  \n",
       "3022146285      2    2  \n",
       "3020392717      3    3  \n",
       "3023036685      4    4  "
      ]
     },
     "execution_count": 119,
     "metadata": {},
     "output_type": "execute_result"
    }
   ],
   "source": [
    "decisions.head()users.head()"
   ]
  },
  {
   "cell_type": "code",
   "execution_count": 126,
   "metadata": {},
   "outputs": [
    {
     "data": {
      "text/html": [
       "<div>\n",
       "<style>\n",
       "    .dataframe thead tr:only-child th {\n",
       "        text-align: right;\n",
       "    }\n",
       "\n",
       "    .dataframe thead th {\n",
       "        text-align: left;\n",
       "    }\n",
       "\n",
       "    .dataframe tbody tr th {\n",
       "        vertical-align: top;\n",
       "    }\n",
       "</style>\n",
       "<table border=\"1\" class=\"dataframe\">\n",
       "  <thead>\n",
       "    <tr style=\"text-align: right;\">\n",
       "      <th></th>\n",
       "      <th>Decision</th>\n",
       "      <th>Number of Records</th>\n",
       "      <th>Receiver_id</th>\n",
       "      <th>Sender_id</th>\n",
       "      <th>Receiver_key</th>\n",
       "      <th>Sender_key</th>\n",
       "      <th>Sender_age</th>\n",
       "      <th>Sender_gender</th>\n",
       "      <th>Receiver_age</th>\n",
       "      <th>Receiver_gender</th>\n",
       "    </tr>\n",
       "  </thead>\n",
       "  <tbody>\n",
       "    <tr>\n",
       "      <th>0</th>\n",
       "      <td>2</td>\n",
       "      <td>1</td>\n",
       "      <td>3020120157</td>\n",
       "      <td>3019224295</td>\n",
       "      <td>71522</td>\n",
       "      <td>19310</td>\n",
       "      <td>33</td>\n",
       "      <td>1</td>\n",
       "      <td>33</td>\n",
       "      <td>2</td>\n",
       "    </tr>\n",
       "    <tr>\n",
       "      <th>1</th>\n",
       "      <td>2</td>\n",
       "      <td>1</td>\n",
       "      <td>3020143161</td>\n",
       "      <td>3021346119</td>\n",
       "      <td>22061</td>\n",
       "      <td>6526</td>\n",
       "      <td>19</td>\n",
       "      <td>2</td>\n",
       "      <td>23</td>\n",
       "      <td>1</td>\n",
       "    </tr>\n",
       "    <tr>\n",
       "      <th>2</th>\n",
       "      <td>2</td>\n",
       "      <td>1</td>\n",
       "      <td>3004593177</td>\n",
       "      <td>3021346119</td>\n",
       "      <td>75255</td>\n",
       "      <td>6526</td>\n",
       "      <td>19</td>\n",
       "      <td>2</td>\n",
       "      <td>22</td>\n",
       "      <td>1</td>\n",
       "    </tr>\n",
       "    <tr>\n",
       "      <th>3</th>\n",
       "      <td>2</td>\n",
       "      <td>1</td>\n",
       "      <td>3020177581</td>\n",
       "      <td>3021346119</td>\n",
       "      <td>15735</td>\n",
       "      <td>6526</td>\n",
       "      <td>19</td>\n",
       "      <td>2</td>\n",
       "      <td>20</td>\n",
       "      <td>1</td>\n",
       "    </tr>\n",
       "    <tr>\n",
       "      <th>4</th>\n",
       "      <td>2</td>\n",
       "      <td>1</td>\n",
       "      <td>3020193527</td>\n",
       "      <td>3019224295</td>\n",
       "      <td>66367</td>\n",
       "      <td>19310</td>\n",
       "      <td>33</td>\n",
       "      <td>1</td>\n",
       "      <td>20</td>\n",
       "      <td>2</td>\n",
       "    </tr>\n",
       "  </tbody>\n",
       "</table>\n",
       "</div>"
      ],
      "text/plain": [
       "   Decision  Number of Records  Receiver_id   Sender_id  Receiver_key  \\\n",
       "0         2                  1   3020120157  3019224295         71522   \n",
       "1         2                  1   3020143161  3021346119         22061   \n",
       "2         2                  1   3004593177  3021346119         75255   \n",
       "3         2                  1   3020177581  3021346119         15735   \n",
       "4         2                  1   3020193527  3019224295         66367   \n",
       "\n",
       "   Sender_key  Sender_age  Sender_gender  Receiver_age  Receiver_gender  \n",
       "0       19310          33              1            33                2  \n",
       "1        6526          19              2            23                1  \n",
       "2        6526          19              2            22                1  \n",
       "3        6526          19              2            20                1  \n",
       "4       19310          33              1            20                2  "
      ]
     },
     "execution_count": 126,
     "metadata": {},
     "output_type": "execute_result"
    }
   ],
   "source": [
    "decisions.head()"
   ]
  },
  {
   "cell_type": "code",
   "execution_count": null,
   "metadata": {
    "collapsed": true
   },
   "outputs": [],
   "source": [
    "from sklearn.cluster import KMeans\n",
    "from scipy.sparse import coo_matrix, lil_matrix\n",
    "\n",
    "def extract_sparce_matrix(decisions):\n",
    "    for (rindex, d) in decisions.iterrows():\n",
    "         yield (d['Sender_key'], d['Receiver_key'], d['Decision'])\n",
    "\n",
    "dim=users.shape[0]\n",
    "S = lil_matrix((dim, dim))\n",
    "for (i,j,d) in extract_sparce_matrix(decisions):\n",
    "    S[i,j] = d\n",
    "\n",
    "labeler = KMeans(n_clusters=15, max_iter=200, verbose=True)\n",
    "labeler.fit(S.tocsr())"
   ]
  },
  {
   "cell_type": "code",
   "execution_count": 139,
   "metadata": {},
   "outputs": [],
   "source": [
    "with open('labeler15clusters.pickle', 'wb') as f:\n",
    "    pickle.dump(labeler, f)\n",
    "    f.close()"
   ]
  },
  {
   "cell_type": "code",
   "execution_count": 140,
   "metadata": {},
   "outputs": [],
   "source": [
    "clusters=pd.DataFrame({\"cluster\":labeler.labels_}, np.arange(0,len(labeler.labels_)))\n",
    "decisions = decisions.merge(clusters, how='left', left_on='Sender_key', right_index=True)\n",
    "users = users.merge(clusters, how='left', left_on='key', right_index=True)"
   ]
  },
  {
   "cell_type": "code",
   "execution_count": 184,
   "metadata": {},
   "outputs": [
    {
     "data": {
      "text/html": [
       "<div>\n",
       "<style>\n",
       "    .dataframe thead tr:only-child th {\n",
       "        text-align: right;\n",
       "    }\n",
       "\n",
       "    .dataframe thead th {\n",
       "        text-align: left;\n",
       "    }\n",
       "\n",
       "    .dataframe tbody tr th {\n",
       "        vertical-align: top;\n",
       "    }\n",
       "</style>\n",
       "<table border=\"1\" class=\"dataframe\">\n",
       "  <thead>\n",
       "    <tr style=\"text-align: right;\">\n",
       "      <th></th>\n",
       "      <th>Decision</th>\n",
       "      <th>Receiver_id</th>\n",
       "      <th>Sender_id</th>\n",
       "    </tr>\n",
       "  </thead>\n",
       "  <tbody>\n",
       "    <tr>\n",
       "      <th>0</th>\n",
       "      <td>2</td>\n",
       "      <td>3020120157</td>\n",
       "      <td>3019224295</td>\n",
       "    </tr>\n",
       "    <tr>\n",
       "      <th>1</th>\n",
       "      <td>2</td>\n",
       "      <td>3020143161</td>\n",
       "      <td>3021346119</td>\n",
       "    </tr>\n",
       "    <tr>\n",
       "      <th>2</th>\n",
       "      <td>2</td>\n",
       "      <td>3004593177</td>\n",
       "      <td>3021346119</td>\n",
       "    </tr>\n",
       "    <tr>\n",
       "      <th>3</th>\n",
       "      <td>2</td>\n",
       "      <td>3020177581</td>\n",
       "      <td>3021346119</td>\n",
       "    </tr>\n",
       "    <tr>\n",
       "      <th>4</th>\n",
       "      <td>2</td>\n",
       "      <td>3020193527</td>\n",
       "      <td>3019224295</td>\n",
       "    </tr>\n",
       "  </tbody>\n",
       "</table>\n",
       "</div>"
      ],
      "text/plain": [
       "   Decision  Receiver_id   Sender_id\n",
       "0         2   3020120157  3019224295\n",
       "1         2   3020143161  3021346119\n",
       "2         2   3004593177  3021346119\n",
       "3         2   3020177581  3021346119\n",
       "4         2   3020193527  3019224295"
      ]
     },
     "execution_count": 184,
     "metadata": {},
     "output_type": "execute_result"
    }
   ],
   "source": [
    "cluster_reciever=decisions.groupby([\"cluster\", \"Receiver_id\"], as_index=False)[\"Decision\"].mean()\n",
    "\n",
    "answer = finder_decisions[[\"Decision\",\"Receiver_id\",\"Sender_id\"]]\n",
    "answer[\"Decision\"] = (answer[\"Decision\"] == \"like\") + 1\n",
    "answer = answer.merge(users[[\"cluster\"]], how=\"left\", left_on=\"Sender_id\", right_index=True )\n",
    "answer.head()"
   ]
  },
  {
   "cell_type": "code",
   "execution_count": 207,
   "metadata": {},
   "outputs": [],
   "source": [
    "\n",
    "answer2 = pd.merge(answer, cluster_reciever,  how='left', left_on=['cluster','Receiver_id'], right_on = ['cluster','Receiver_id'])"
   ]
  },
  {
   "cell_type": "code",
   "execution_count": 216,
   "metadata": {},
   "outputs": [
    {
     "data": {
      "text/plain": [
       "0.7651222896132925"
      ]
     },
     "execution_count": 216,
     "metadata": {},
     "output_type": "execute_result"
    }
   ],
   "source": [
    "answer2[answer2.Decision_x == 1+(answer2.Decision_y>1.5)].shape[0]/answer2.shape[0]"
   ]
  }
 ],
 "metadata": {
  "kernelspec": {
   "display_name": "Python 3",
   "language": "python",
   "name": "python3"
  },
  "language_info": {
   "codemirror_mode": {
    "name": "ipython",
    "version": 3
   },
   "file_extension": ".py",
   "mimetype": "text/x-python",
   "name": "python",
   "nbconvert_exporter": "python",
   "pygments_lexer": "ipython3",
   "version": "3.6.1"
  }
 },
 "nbformat": 4,
 "nbformat_minor": 1
}
